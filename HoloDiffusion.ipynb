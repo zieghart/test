{
 "cells": [
  {
   "cell_type": "code",
   "metadata": {
    "pycharm": {
     "name": "#%%\n"
    }
   },
   "source": [
    "# Load dependent libraries\n",
    "import warnings\n",
    "warnings.filterwarnings('ignore')\n",
    "import os\n",
    "os.environ[\"CUDA_VISIBLE_DEVICES\"] = \"0\"\n",
    "import sys\n",
    "sys.path.append('..')\n",
    "import sys\n",
    "from A_1k_arg_sampling import ReverseDiffusionPredictor,AnnealedLangevinDynamics\n",
    "import aapm_sin_ncsnpp_gb as configs\n",
    "sys.path.append('..')\n",
    "from losses import get_optimizer\n",
    "from models.ema import ExponentialMovingAverage\n",
    "from utils import restore_checkpoint\n",
    "from sde_lib import VESDE\n",
    "import os\n",
    "import sys\n",
    "sys.path.append('..')\n",
    "from models import utils as mutils"
   ],
   "execution_count": null,
   "outputs": []
  },
  {
   "cell_type": "code",
   "execution_count": 2,
   "metadata": {},
   "outputs": [],
   "source": [
    "# Set the model parameters and load the network\n",
    "ckpt_filename ='./exp/checkpoints/checkpoint_23.pth'\n",
    "assert os.path.exists(ckpt_filename)\n",
    "config = configs.get_config()  \n",
    "sde = VESDE(sigma_min=config.model.sigma_min, sigma_max=config.model.sigma_max, N=config.model.num_scales)\n",
    "sampling_eps = 1e-5\n",
    "batch_size = 1 \n",
    "config.training.batch_size = batch_size\n",
    "config.eval.batch_size = batch_size\n",
    "\n",
    "random_seed = 0 \n",
    "\n",
    "sigmas = mutils.get_sigmas(config)\n",
    "score_model = mutils.create_model(config)\n",
    "\n",
    "optimizer = get_optimizer(config, score_model.parameters())\n",
    "ema = ExponentialMovingAverage(score_model.parameters(), decay=config.model.ema_rate)\n",
    "state = dict(step=0, optimizer=optimizer, model=score_model, ema=ema)\n",
    "\n",
    "state = restore_checkpoint(ckpt_filename, state, config.device)\n",
    "ema.copy_to(score_model.parameters())\n",
    "\n",
    "img_size = config.data.image_size\n",
    "channels = config.data.num_channels\n",
    "shape = (batch_size, channels, img_size, img_size)\n",
    "snr = 0.02734\n",
    "n_steps =  2\n",
    "probability_flow = False\n"
   ]
  },
  {
   "cell_type": "code",
   "execution_count": null,
   "outputs": [],
   "source": [
    "# Image reconstruction is under way\n",
    "import sampling\n",
    "sampling_fn = sampling.get_pc_sampler(sde, ReverseDiffusionPredictor, AnnealedLangevinDynamics,\n",
    "                                      None, snr, n_steps=n_steps,\n",
    "                                      probability_flow=probability_flow,\n",
    "                                      continuous=config.training.continuous,\n",
    "                                      eps=sampling_eps, device=config.device)\n",
    "\n",
    "sampling_fn(score_model,32,ReverseDiffusionPredictor,AnnealedLangevinDynamics)\n"
   ],
   "metadata": {
    "collapsed": false,
    "pycharm": {
     "name": "#%%\n"
    }
   }
  },
  {
   "cell_type": "markdown",
   "metadata": {
    "pycharm": {
     "name": "#%% md\n"
    }
   },
   "source": [
    "size 500 gap 60 Net True sparse False amp 0  psnr 14.9700  ssim 0.6122  mse 0.0318\n",
    "size 500 gap 60 Net True sparse False phase 0  psnr 14.1700 ssim 0.3567  mse 0.0383\n",
    "size 500 gap 60 Net True sparse False amp 5  psnr 16.1300  ssim 0.6715  mse 0.0244\n",
    "size 500 gap 60 Net True sparse False phase 5  psnr 14.5800 ssim 0.3674  mse 0.0349\n",
    "size 500 gap 60 Net True sparse False amp 10  psnr 16.7300  ssim 0.6963  mse 0.0213\n",
    "size 500 gap 60 Net True sparse False phase 10  psnr 14.9000 ssim 0.3873  mse 0.0324\n"
   ]
  },
  {
   "cell_type": "markdown",
   "source": [],
   "metadata": {
    "collapsed": false
   }
  }
 ],
 "metadata": {
  "interpreter": {
   "hash": "6facd4e90a06e6742dcd016c6ffb4fc7dc44033cbc946103c685dca3929b70d7"
  },
  "kernelspec": {
   "display_name": "Python 3",
   "language": "python",
   "name": "python3"
  },
  "language_info": {
   "codemirror_mode": {
    "name": "ipython",
    "version": 3
   },
   "file_extension": ".py",
   "mimetype": "text/x-python",
   "name": "python",
   "nbconvert_exporter": "python",
   "pygments_lexer": "ipython3",
   "version": "3.8.8"
  }
 },
 "nbformat": 4,
 "nbformat_minor": 2
}